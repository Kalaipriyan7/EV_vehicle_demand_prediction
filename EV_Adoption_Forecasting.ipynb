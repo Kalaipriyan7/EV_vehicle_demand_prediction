# EV Adoption Forecasting Model

# =============================
# 1. IMPORT LIBRARIES
# =============================
import pandas as pd
import numpy as np
import matplotlib.pyplot as plt
import seaborn as sns
from sklearn.model_selection import train_test_split
from sklearn.ensemble import RandomForestRegressor, GradientBoostingRegressor
from sklearn.metrics import mean_absolute_error, mean_squared_error, r2_score
import joblib
import warnings
warnings.filterwarnings('ignore')

# =============================
# 2. LOAD AND CLEAN DATA
# =============================
df = pd.read_csv("ev battery dataset.csv")

# Convert Date to datetime
df['Date'] = pd.to_datetime(df['Date'], errors='coerce')

# Convert numeric columns (remove commas, convert to float)
numeric_cols = [
    'Battery Electric Vehicles (BEVs)',
    'Plug-In Hybrid Electric Vehicles (PHEVs)',
    'Electric Vehicle (EV) Total',
    'Non-Electric Vehicle Total',
    'Total Vehicles'
]
for col in numeric_cols:
    df[col] = df[col].astype(str).str.replace(",", "").astype(float)

# Drop rows with missing critical values
df.dropna(subset=['Date', 'County', 'State'], inplace=True)

# =============================
# 3. FEATURE ENGINEERING
# =============================
df['Year'] = df['Date'].dt.year
df['Month'] = df['Date'].dt.month
df['EV_Growth'] = df.groupby(['State'])['Percent Electric Vehicles'].diff().fillna(0)

# =============================
# 4. EXPLORATORY DATA ANALYSIS
# =============================
plt.figure(figsize=(10,5))
sns.lineplot(data=df.groupby('Year')['Percent Electric Vehicles'].mean())
plt.title("Average EV Adoption Over Years")
plt.xlabel("Year")
plt.ylabel("Average Percent EVs")
plt.grid(True)
plt.show()

plt.figure(figsize=(12,6))
top_states = df.groupby("State")["Electric Vehicle (EV) Total"].sum().sort_values(ascending=False).head(10)
sns.barplot(x=top_states.index, y=top_states.values)
plt.title("Top 10 States by EV Total")
plt.ylabel("EV Total")
plt.xticks(rotation=45)
plt.show()

# =============================
# 5. MODELING
# =============================
features = ['Year', 'Month', 'Battery Electric Vehicles (BEVs)', 
            'Plug-In Hybrid Electric Vehicles (PHEVs)', 'Non-Electric Vehicle Total']
target = 'Percent Electric Vehicles'

X = df[features]
y = df[target]

X_train, X_test, y_train, y_test = train_test_split(X, y, test_size=0.2, random_state=42)

# Model 1: Random Forest
rf = RandomForestRegressor(n_estimators=200, random_state=42)
rf.fit(X_train, y_train)
y_pred_rf = rf.predict(X_test)

# Model 2: Gradient Boosting
gb = GradientBoostingRegressor(n_estimators=200, learning_rate=0.1, random_state=42)
gb.fit(X_train, y_train)
y_pred_gb = gb.predict(X_test)

# =============================
# 6. EVALUATION
# =============================
def evaluate_model(name, y_true, y_pred):
    print(f"Model: {name}")
    print("MAE:", mean_absolute_error(y_true, y_pred))
    print("MSE:", mean_squared_error(y_true, y_pred))
    print("RMSE:", np.sqrt(mean_squared_error(y_true, y_pred)))
    print("R2 Score:", r2_score(y_true, y_pred))
    print("-"*30)

evaluate_model("Random Forest", y_test, y_pred_rf)
evaluate_model("Gradient Boosting", y_test, y_pred_gb)

# =============================
# 7. SAVE BEST MODEL
# =============================
best_model = gb if r2_score(y_test, y_pred_gb) > r2_score(y_test, y_pred_rf) else rf
joblib.dump(best_model, "ev_forecasting_model.pkl")
print("Best model saved.")

